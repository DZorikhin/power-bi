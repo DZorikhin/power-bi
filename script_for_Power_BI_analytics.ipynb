{
 "cells": [
  {
   "cell_type": "code",
   "execution_count": null,
   "metadata": {},
   "outputs": [],
   "source": [
    "import time\n",
    "import datetime\n",
    "import dateutil.relativedelta\n",
    "import json\n",
    "import requests\n",
    "\n",
    "import pandas as pd"
   ]
  },
  {
   "cell_type": "markdown",
   "metadata": {},
   "source": [
    "#### Write function which serves for sending HTTP request to get API data"
   ]
  },
  {
   "cell_type": "code",
   "execution_count": null,
   "metadata": {},
   "outputs": [],
   "source": [
    "def send_request(str_ts):\n",
    "    try:\n",
    "        print('url: ', \"https://discover.energy/api/XXX\"+str_ts)\n",
    "        response = requests.get(\n",
    "            url=\"https://discover.energy/api/XXX\"+str_ts,\n",
    "            headers={\n",
    "                \"Authorization\": \"XXX\",\n",
    "            },\n",
    "        )\n",
    "        return response.content\n",
    "    except requests.exceptions.RequestException:\n",
    "        print('HTTP Request failed')"
   ]
  },
  {
   "cell_type": "code",
   "execution_count": null,
   "metadata": {},
   "outputs": [],
   "source": [
    "ts = (int((datetime.datetime.now() \n",
    "           - dateutil.relativedelta.relativedelta(months=60)).timestamp()))\n",
    "\n",
    "df = pd.DataFrame(json.loads(send_request(str(ts)))['data'])\n",
    "\n",
    "df['date'] = pd.to_datetime(df['created_at'], infer_datetime_format=True).dt.to_period('d')\n",
    "\n",
    "df['user_type'] = df['user'].apply(lambda x: str(type(x))[-6:-2])\n",
    "\n",
    "df = df[df['user_type'] == 'dict'].copy()\n",
    "df['user_email'] = df['user'].apply(lambda x: x['email'])\n",
    "\n",
    "df['domain'] = df['user_email'].apply(lambda x: x.split('@')[1])\n",
    "\n",
    "internal_domains = ['heaconnect.com', 'tapmates.com', 'advisor.energy', 'tracktivity.com']\n",
    "group_metrics = ['reports', 'assets', 'metrics']\n",
    "\n",
    "df = df[~df['domain'].isin(internal_domains)]\n",
    "df = df[df['group'].isin(group_metrics)]"
   ]
  },
  {
   "cell_type": "code",
   "execution_count": null,
   "metadata": {},
   "outputs": [],
   "source": [
    "clicks_analysis = df[['date', 'group', 'domain', 'user_email']].reset_index(drop=True)\n",
    "unique_users_analysis = (clicks_analysis[['date', 'domain', 'user_email']]\n",
    "                         .drop_duplicates().reset_index(drop=True))"
   ]
  },
  {
   "cell_type": "code",
   "execution_count": null,
   "metadata": {},
   "outputs": [],
   "source": [
    "clicks_analysis.to_csv('clicks_analysis.csv')\n",
    "unique_users_analysis.to_csv('unique_users_analysis.csv')"
   ]
  },
  {
   "cell_type": "code",
   "execution_count": null,
   "metadata": {},
   "outputs": [],
   "source": [
    "advisor_df = df.copy()\n",
    "advisor_df['created_at'] = pd.to_datetime(advisor_df['created_at'], infer_datetime_format=True)\n",
    "\n",
    "advisor_df['entity_type'] = advisor_df['related_entity'].apply(lambda x: str(type(x))[-6:-2])\n",
    "advisor_df = advisor_df[advisor_df['entity_type'] == \"dict\"].copy()\n",
    "advisor_df['name'] = advisor_df['related_entity'].apply(lambda x: x['name'])\n",
    "advisor_df['report_class'] = advisor_df['related_entity'].apply(lambda x: x['class']) \n",
    "advisor_df = advisor_df[advisor_df['report_class'] == 'ReportVersion'].copy()\n",
    "advisor_df = advisor_df.drop(['data', 'date', 'ip_address', 'ip_location', 'user', \n",
    "                              'user_type', 'report_class', 'entity_type', \n",
    "                              'related_entity', 'type'], axis=1)"
   ]
  },
  {
   "cell_type": "code",
   "execution_count": null,
   "metadata": {},
   "outputs": [],
   "source": [
    "fd = (advisor_df[['name', 'created_at']]\n",
    "      .groupby('name')\n",
    "      .min()\n",
    "      .reset_index()\n",
    "      .rename(columns={'created_at':'first_date'}))"
   ]
  },
  {
   "cell_type": "code",
   "execution_count": null,
   "metadata": {},
   "outputs": [],
   "source": [
    "advisor_df = advisor_df.merge(fd, on='name', how='inner')\n",
    "advisor_df['dt'] = advisor_df['created_at'] - advisor_df['first_date']"
   ]
  },
  {
   "cell_type": "code",
   "execution_count": null,
   "metadata": {},
   "outputs": [],
   "source": [
    "advisor_df['f24h'] = 0\n",
    "advisor_df.loc[((advisor_df['dt'] <= pd.to_timedelta('1 days 00:00:00'))), 'f24h'] = 1\n",
    "advisor_df['5d'] = 0\n",
    "advisor_df.loc[((advisor_df['dt'] <= pd.to_timedelta('5 days 00:00:00'))), '5d'] = 1\n",
    "advisor_df['30d'] = 0\n",
    "advisor_df.loc[((advisor_df['dt'] <= pd.to_timedelta('30 days 00:00:00'))), '30d'] = 1"
   ]
  },
  {
   "cell_type": "code",
   "execution_count": null,
   "metadata": {},
   "outputs": [],
   "source": [
    "advisor_df.to_csv('advisor_review.csv')"
   ]
  }
 ],
 "metadata": {
  "kernelspec": {
   "display_name": "Python 3",
   "language": "python",
   "name": "python3"
  },
  "language_info": {
   "codemirror_mode": {
    "name": "ipython",
    "version": 3
   },
   "file_extension": ".py",
   "mimetype": "text/x-python",
   "name": "python",
   "nbconvert_exporter": "python",
   "pygments_lexer": "ipython3",
   "version": "3.7.7"
  }
 },
 "nbformat": 4,
 "nbformat_minor": 4
}
